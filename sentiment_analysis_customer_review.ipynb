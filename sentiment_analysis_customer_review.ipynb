{
 "cells": [
  {
   "attachments": {},
   "cell_type": "markdown",
   "metadata": {},
   "source": [
    "# Sentiment Analysis of Yelp Business Reviews"
   ]
  },
  {
   "attachments": {},
   "cell_type": "markdown",
   "metadata": {},
   "source": [
    "### Importing the required libraries"
   ]
  },
  {
   "cell_type": "code",
   "execution_count": 1,
   "metadata": {},
   "outputs": [],
   "source": [
    "import numpy as np\n",
    "import pandas as pd\n",
    "import seaborn as sns\n",
    "import matplotlib.pyplot as plt\n",
    "%matplotlib inline\n",
    "import nltk\n",
    "from nltk.corpus import stopwords\n",
    "from nltk.probability import FreqDist\n",
    "from wordcloud import WordCloud, STOPWORDS\n",
    "from sklearn.model_selection import train_test_split\n",
    "from sklearn.metrics import mean_squared_error\n",
    "from sklearn.feature_extraction.text import CountVectorizer\n",
    "from sklearn.feature_extraction.text import  TfidfTransformer\n",
    "from sklearn.naive_bayes import MultinomialNB\n",
    "from sklearn.ensemble import RandomForestClassifier\n",
    "from sklearn.metrics import classification_report\n",
    "from sklearn.metrics import confusion_matrix\n",
    "from sklearn.metrics import accuracy_score\n",
    "from collections import Counter \n",
    "from nltk.tokenize import word_tokenize\n",
    "\n",
    "import warnings \n",
    "warnings.filterwarnings('ignore')"
   ]
  },
  {
   "attachments": {},
   "cell_type": "markdown",
   "metadata": {},
   "source": [
    "### Importing the required dataset"
   ]
  },
  {
   "cell_type": "code",
   "execution_count": 2,
   "metadata": {},
   "outputs": [
    {
     "data": {
      "text/html": [
       "<div>\n",
       "<style scoped>\n",
       "    .dataframe tbody tr th:only-of-type {\n",
       "        vertical-align: middle;\n",
       "    }\n",
       "\n",
       "    .dataframe tbody tr th {\n",
       "        vertical-align: top;\n",
       "    }\n",
       "\n",
       "    .dataframe thead th {\n",
       "        text-align: right;\n",
       "    }\n",
       "</style>\n",
       "<table border=\"1\" class=\"dataframe\">\n",
       "  <thead>\n",
       "    <tr style=\"text-align: right;\">\n",
       "      <th></th>\n",
       "      <th>index</th>\n",
       "      <th>review_id</th>\n",
       "      <th>user_id</th>\n",
       "      <th>business_id</th>\n",
       "      <th>stars</th>\n",
       "      <th>useful</th>\n",
       "      <th>funny</th>\n",
       "      <th>cool</th>\n",
       "      <th>text</th>\n",
       "      <th>date</th>\n",
       "      <th>year</th>\n",
       "    </tr>\n",
       "  </thead>\n",
       "  <tbody>\n",
       "    <tr>\n",
       "      <th>0</th>\n",
       "      <td>491263</td>\n",
       "      <td>K1I5yuJICQpInOy-wCCo9A</td>\n",
       "      <td>UqqqBhqlAHiHfB_V3BNmvw</td>\n",
       "      <td>ljGzs5MhfnH1pKfJjFFRlQ</td>\n",
       "      <td>5</td>\n",
       "      <td>0</td>\n",
       "      <td>0</td>\n",
       "      <td>0</td>\n",
       "      <td>The staff is very friendly and I really like D...</td>\n",
       "      <td>2017-06-25 01:27:59</td>\n",
       "      <td>2017</td>\n",
       "    </tr>\n",
       "    <tr>\n",
       "      <th>1</th>\n",
       "      <td>6662859</td>\n",
       "      <td>NOwHErM1-u4d8Z6vSS7FwA</td>\n",
       "      <td>cmHaLdW8ssAXK2MKZ2idmw</td>\n",
       "      <td>xoJSkBTusOEt8PPvuw2qEQ</td>\n",
       "      <td>1</td>\n",
       "      <td>0</td>\n",
       "      <td>2</td>\n",
       "      <td>0</td>\n",
       "      <td>I usually have a great experience here but lef...</td>\n",
       "      <td>2017-02-05 20:22:26</td>\n",
       "      <td>2017</td>\n",
       "    </tr>\n",
       "    <tr>\n",
       "      <th>2</th>\n",
       "      <td>7361472</td>\n",
       "      <td>JjvOoHUs-OrPEnuUUanDsw</td>\n",
       "      <td>dTSwfFTTHPHwSe48qDkPXg</td>\n",
       "      <td>wTBid_bYRigHAl6vNHYeOQ</td>\n",
       "      <td>5</td>\n",
       "      <td>4</td>\n",
       "      <td>1</td>\n",
       "      <td>1</td>\n",
       "      <td>UPDATE:\\nI have been contacted shortly after t...</td>\n",
       "      <td>2016-03-03 17:59:40</td>\n",
       "      <td>2016</td>\n",
       "    </tr>\n",
       "    <tr>\n",
       "      <th>3</th>\n",
       "      <td>5119559</td>\n",
       "      <td>XaiIBzU7e2GUqrHflo9Ngw</td>\n",
       "      <td>EwTdYT2JA1rmVlWJ_KyV8g</td>\n",
       "      <td>zz5OUCGJvH-v9bDLxAjVsg</td>\n",
       "      <td>5</td>\n",
       "      <td>0</td>\n",
       "      <td>0</td>\n",
       "      <td>0</td>\n",
       "      <td>Francesca was truly accommodating and kind, ga...</td>\n",
       "      <td>2020-05-02 19:37:56</td>\n",
       "      <td>2020</td>\n",
       "    </tr>\n",
       "    <tr>\n",
       "      <th>4</th>\n",
       "      <td>7777005</td>\n",
       "      <td>wWPwXqz7yGiVgUTlXCxe9g</td>\n",
       "      <td>Bn7_reSFVDjxOIpCbJOGng</td>\n",
       "      <td>1ZF6BpaRvtyjT7-_x5dZHg</td>\n",
       "      <td>1</td>\n",
       "      <td>16</td>\n",
       "      <td>3</td>\n",
       "      <td>2</td>\n",
       "      <td>DO NOT send anyone you care about to this plac...</td>\n",
       "      <td>2013-09-24 16:22:46</td>\n",
       "      <td>2013</td>\n",
       "    </tr>\n",
       "  </tbody>\n",
       "</table>\n",
       "</div>"
      ],
      "text/plain": [
       "     index               review_id                 user_id   \n",
       "0   491263  K1I5yuJICQpInOy-wCCo9A  UqqqBhqlAHiHfB_V3BNmvw  \\\n",
       "1  6662859  NOwHErM1-u4d8Z6vSS7FwA  cmHaLdW8ssAXK2MKZ2idmw   \n",
       "2  7361472  JjvOoHUs-OrPEnuUUanDsw  dTSwfFTTHPHwSe48qDkPXg   \n",
       "3  5119559  XaiIBzU7e2GUqrHflo9Ngw  EwTdYT2JA1rmVlWJ_KyV8g   \n",
       "4  7777005  wWPwXqz7yGiVgUTlXCxe9g  Bn7_reSFVDjxOIpCbJOGng   \n",
       "\n",
       "              business_id  stars  useful  funny  cool   \n",
       "0  ljGzs5MhfnH1pKfJjFFRlQ      5       0      0     0  \\\n",
       "1  xoJSkBTusOEt8PPvuw2qEQ      1       0      2     0   \n",
       "2  wTBid_bYRigHAl6vNHYeOQ      5       4      1     1   \n",
       "3  zz5OUCGJvH-v9bDLxAjVsg      5       0      0     0   \n",
       "4  1ZF6BpaRvtyjT7-_x5dZHg      1      16      3     2   \n",
       "\n",
       "                                                text                 date   \n",
       "0  The staff is very friendly and I really like D...  2017-06-25 01:27:59  \\\n",
       "1  I usually have a great experience here but lef...  2017-02-05 20:22:26   \n",
       "2  UPDATE:\\nI have been contacted shortly after t...  2016-03-03 17:59:40   \n",
       "3  Francesca was truly accommodating and kind, ga...  2020-05-02 19:37:56   \n",
       "4  DO NOT send anyone you care about to this plac...  2013-09-24 16:22:46   \n",
       "\n",
       "   year  \n",
       "0  2017  \n",
       "1  2017  \n",
       "2  2016  \n",
       "3  2020  \n",
       "4  2013  "
      ]
     },
     "execution_count": 2,
     "metadata": {},
     "output_type": "execute_result"
    }
   ],
   "source": [
    "#df = pd.read_json('sample_data.json')  \n",
    "df = pd.read_csv('data.csv')\n",
    "df.head() "
   ]
  },
  {
   "attachments": {},
   "cell_type": "markdown",
   "metadata": {},
   "source": [
    "### Data exploration preprocessing "
   ]
  },
  {
   "attachments": {},
   "cell_type": "markdown",
   "metadata": {},
   "source": [
    "In this step we'll remove columns that we're not going to use in our analysis"
   ]
  },
  {
   "cell_type": "code",
   "execution_count": 3,
   "metadata": {},
   "outputs": [
    {
     "data": {
      "text/html": [
       "<div>\n",
       "<style scoped>\n",
       "    .dataframe tbody tr th:only-of-type {\n",
       "        vertical-align: middle;\n",
       "    }\n",
       "\n",
       "    .dataframe tbody tr th {\n",
       "        vertical-align: top;\n",
       "    }\n",
       "\n",
       "    .dataframe thead th {\n",
       "        text-align: right;\n",
       "    }\n",
       "</style>\n",
       "<table border=\"1\" class=\"dataframe\">\n",
       "  <thead>\n",
       "    <tr style=\"text-align: right;\">\n",
       "      <th></th>\n",
       "      <th>index</th>\n",
       "      <th>review_id</th>\n",
       "      <th>stars</th>\n",
       "      <th>text</th>\n",
       "      <th>year</th>\n",
       "    </tr>\n",
       "  </thead>\n",
       "  <tbody>\n",
       "    <tr>\n",
       "      <th>0</th>\n",
       "      <td>491263</td>\n",
       "      <td>K1I5yuJICQpInOy-wCCo9A</td>\n",
       "      <td>5</td>\n",
       "      <td>The staff is very friendly and I really like D...</td>\n",
       "      <td>2017</td>\n",
       "    </tr>\n",
       "    <tr>\n",
       "      <th>1</th>\n",
       "      <td>6662859</td>\n",
       "      <td>NOwHErM1-u4d8Z6vSS7FwA</td>\n",
       "      <td>1</td>\n",
       "      <td>I usually have a great experience here but lef...</td>\n",
       "      <td>2017</td>\n",
       "    </tr>\n",
       "    <tr>\n",
       "      <th>2</th>\n",
       "      <td>7361472</td>\n",
       "      <td>JjvOoHUs-OrPEnuUUanDsw</td>\n",
       "      <td>5</td>\n",
       "      <td>UPDATE:\\nI have been contacted shortly after t...</td>\n",
       "      <td>2016</td>\n",
       "    </tr>\n",
       "    <tr>\n",
       "      <th>3</th>\n",
       "      <td>5119559</td>\n",
       "      <td>XaiIBzU7e2GUqrHflo9Ngw</td>\n",
       "      <td>5</td>\n",
       "      <td>Francesca was truly accommodating and kind, ga...</td>\n",
       "      <td>2020</td>\n",
       "    </tr>\n",
       "    <tr>\n",
       "      <th>4</th>\n",
       "      <td>7777005</td>\n",
       "      <td>wWPwXqz7yGiVgUTlXCxe9g</td>\n",
       "      <td>1</td>\n",
       "      <td>DO NOT send anyone you care about to this plac...</td>\n",
       "      <td>2013</td>\n",
       "    </tr>\n",
       "  </tbody>\n",
       "</table>\n",
       "</div>"
      ],
      "text/plain": [
       "     index               review_id  stars   \n",
       "0   491263  K1I5yuJICQpInOy-wCCo9A      5  \\\n",
       "1  6662859  NOwHErM1-u4d8Z6vSS7FwA      1   \n",
       "2  7361472  JjvOoHUs-OrPEnuUUanDsw      5   \n",
       "3  5119559  XaiIBzU7e2GUqrHflo9Ngw      5   \n",
       "4  7777005  wWPwXqz7yGiVgUTlXCxe9g      1   \n",
       "\n",
       "                                                text  year  \n",
       "0  The staff is very friendly and I really like D...  2017  \n",
       "1  I usually have a great experience here but lef...  2017  \n",
       "2  UPDATE:\\nI have been contacted shortly after t...  2016  \n",
       "3  Francesca was truly accommodating and kind, ga...  2020  \n",
       "4  DO NOT send anyone you care about to this plac...  2013  "
      ]
     },
     "execution_count": 3,
     "metadata": {},
     "output_type": "execute_result"
    }
   ],
   "source": [
    "review_data = df.drop(['business_id','date','cool','useful','funny','user_id'],axis=1) \n",
    "review_data.head()  "
   ]
  },
  {
   "attachments": {},
   "cell_type": "markdown",
   "metadata": {},
   "source": [
    "Next we're adding length for the text column "
   ]
  },
  {
   "cell_type": "code",
   "execution_count": 4,
   "metadata": {},
   "outputs": [
    {
     "data": {
      "text/html": [
       "<div>\n",
       "<style scoped>\n",
       "    .dataframe tbody tr th:only-of-type {\n",
       "        vertical-align: middle;\n",
       "    }\n",
       "\n",
       "    .dataframe tbody tr th {\n",
       "        vertical-align: top;\n",
       "    }\n",
       "\n",
       "    .dataframe thead th {\n",
       "        text-align: right;\n",
       "    }\n",
       "</style>\n",
       "<table border=\"1\" class=\"dataframe\">\n",
       "  <thead>\n",
       "    <tr style=\"text-align: right;\">\n",
       "      <th></th>\n",
       "      <th>index</th>\n",
       "      <th>review_id</th>\n",
       "      <th>stars</th>\n",
       "      <th>text</th>\n",
       "      <th>year</th>\n",
       "      <th>text_length</th>\n",
       "    </tr>\n",
       "  </thead>\n",
       "  <tbody>\n",
       "    <tr>\n",
       "      <th>0</th>\n",
       "      <td>491263</td>\n",
       "      <td>K1I5yuJICQpInOy-wCCo9A</td>\n",
       "      <td>5</td>\n",
       "      <td>The staff is very friendly and I really like D...</td>\n",
       "      <td>2017</td>\n",
       "      <td>449</td>\n",
       "    </tr>\n",
       "    <tr>\n",
       "      <th>1</th>\n",
       "      <td>6662859</td>\n",
       "      <td>NOwHErM1-u4d8Z6vSS7FwA</td>\n",
       "      <td>1</td>\n",
       "      <td>I usually have a great experience here but lef...</td>\n",
       "      <td>2017</td>\n",
       "      <td>403</td>\n",
       "    </tr>\n",
       "    <tr>\n",
       "      <th>2</th>\n",
       "      <td>7361472</td>\n",
       "      <td>JjvOoHUs-OrPEnuUUanDsw</td>\n",
       "      <td>5</td>\n",
       "      <td>UPDATE:\\nI have been contacted shortly after t...</td>\n",
       "      <td>2016</td>\n",
       "      <td>1551</td>\n",
       "    </tr>\n",
       "    <tr>\n",
       "      <th>3</th>\n",
       "      <td>5119559</td>\n",
       "      <td>XaiIBzU7e2GUqrHflo9Ngw</td>\n",
       "      <td>5</td>\n",
       "      <td>Francesca was truly accommodating and kind, ga...</td>\n",
       "      <td>2020</td>\n",
       "      <td>346</td>\n",
       "    </tr>\n",
       "    <tr>\n",
       "      <th>4</th>\n",
       "      <td>7777005</td>\n",
       "      <td>wWPwXqz7yGiVgUTlXCxe9g</td>\n",
       "      <td>1</td>\n",
       "      <td>DO NOT send anyone you care about to this plac...</td>\n",
       "      <td>2013</td>\n",
       "      <td>1280</td>\n",
       "    </tr>\n",
       "  </tbody>\n",
       "</table>\n",
       "</div>"
      ],
      "text/plain": [
       "     index               review_id  stars   \n",
       "0   491263  K1I5yuJICQpInOy-wCCo9A      5  \\\n",
       "1  6662859  NOwHErM1-u4d8Z6vSS7FwA      1   \n",
       "2  7361472  JjvOoHUs-OrPEnuUUanDsw      5   \n",
       "3  5119559  XaiIBzU7e2GUqrHflo9Ngw      5   \n",
       "4  7777005  wWPwXqz7yGiVgUTlXCxe9g      1   \n",
       "\n",
       "                                                text  year  text_length  \n",
       "0  The staff is very friendly and I really like D...  2017          449  \n",
       "1  I usually have a great experience here but lef...  2017          403  \n",
       "2  UPDATE:\\nI have been contacted shortly after t...  2016         1551  \n",
       "3  Francesca was truly accommodating and kind, ga...  2020          346  \n",
       "4  DO NOT send anyone you care about to this plac...  2013         1280  "
      ]
     },
     "execution_count": 4,
     "metadata": {},
     "output_type": "execute_result"
    }
   ],
   "source": [
    "review_data['text_length'] = review_data['text'].apply(len) \n",
    "review_data.head()  "
   ]
  },
  {
   "attachments": {},
   "cell_type": "markdown",
   "metadata": {},
   "source": [
    "Next we'll check for null values "
   ]
  },
  {
   "cell_type": "code",
   "execution_count": 5,
   "metadata": {},
   "outputs": [
    {
     "data": {
      "text/plain": [
       "index          0\n",
       "review_id      0\n",
       "stars          0\n",
       "text           0\n",
       "year           0\n",
       "text_length    0\n",
       "dtype: int64"
      ]
     },
     "execution_count": 5,
     "metadata": {},
     "output_type": "execute_result"
    }
   ],
   "source": [
    "review_data.isnull().sum() "
   ]
  },
  {
   "attachments": {},
   "cell_type": "markdown",
   "metadata": {},
   "source": [
    "Now we're generating a counter plot to display the distribution of starts in our dataset"
   ]
  },
  {
   "cell_type": "code",
   "execution_count": 6,
   "metadata": {},
   "outputs": [
    {
     "data": {
      "text/plain": [
       "<Axes: xlabel='stars', ylabel='count'>"
      ]
     },
     "execution_count": 6,
     "metadata": {},
     "output_type": "execute_result"
    },
    {
     "data": {
      "image/png": "[encoded data removed]",
      "text/plain": [
       "<Figure size 400x300 with 1 Axes>"
      ]
     },
     "metadata": {},
     "output_type": "display_data"
    }
   ],
   "source": [
    "plt.figure(figsize=(4,3)) \n",
    "sns.countplot(data=review_data,x='stars', palette=\"Blues_d\")  "
   ]
  },
  {
   "attachments": {},
   "cell_type": "markdown",
   "metadata": {},
   "source": [
    "Next, we're generating a distribution plot for the length of the text reviews "
   ]
  },
  {
   "cell_type": "code",
   "execution_count": 7,
   "metadata": {},
   "outputs": [
    {
     "data": {
      "text/plain": [
       "Text(0.5, 1.0, 'Text Length Distribution')"
      ]
     },
     "execution_count": 7,
     "metadata": {},
     "output_type": "execute_result"
    },
    {
     "data": {
      "image/png": "[encoded data removed]",
      "text/plain": [
       "<Figure size 500x500 with 1 Axes>"
      ]
     },
     "metadata": {},
     "output_type": "display_data"
    }
   ],
   "source": [
    "sns.displot(data=review_data,x='text_length',kde=True)  \n",
    "plt.title('Text Length Distribution') "
   ]
  },
  {
   "attachments": {},
   "cell_type": "markdown",
   "metadata": {},
   "source": [
    "### Data cleaning"
   ]
  },
  {
   "attachments": {},
   "cell_type": "markdown",
   "metadata": {},
   "source": [
    "We start by removing the stopwords from the text column"
   ]
  },
  {
   "cell_type": "code",
   "execution_count": 8,
   "metadata": {},
   "outputs": [],
   "source": [
    "stop_words = set(stopwords.words(\"english\")) \n",
    "def stopwords_removal(text) :\n",
    "    return \" \".join([word for word in text.lower().split() if word not in stop_words])"
   ]
  },
  {
   "cell_type": "code",
   "execution_count": 9,
   "metadata": {},
   "outputs": [
    {
     "data": {
      "text/plain": [
       "'sentence stopwords need removed'"
      ]
     },
     "execution_count": 9,
     "metadata": {},
     "output_type": "execute_result"
    }
   ],
   "source": [
    "# Testing stopwords_removal function \n",
    "sentence = \"This is a sentence with stopwords that need to be removed\" \n",
    "stopwords_removal(sentence) "
   ]
  },
  {
   "cell_type": "code",
   "execution_count": 10,
   "metadata": {},
   "outputs": [
    {
     "data": {
      "text/html": [
       "<div>\n",
       "<style scoped>\n",
       "    .dataframe tbody tr th:only-of-type {\n",
       "        vertical-align: middle;\n",
       "    }\n",
       "\n",
       "    .dataframe tbody tr th {\n",
       "        vertical-align: top;\n",
       "    }\n",
       "\n",
       "    .dataframe thead th {\n",
       "        text-align: right;\n",
       "    }\n",
       "</style>\n",
       "<table border=\"1\" class=\"dataframe\">\n",
       "  <thead>\n",
       "    <tr style=\"text-align: right;\">\n",
       "      <th></th>\n",
       "      <th>index</th>\n",
       "      <th>review_id</th>\n",
       "      <th>stars</th>\n",
       "      <th>text</th>\n",
       "      <th>year</th>\n",
       "      <th>text_length</th>\n",
       "    </tr>\n",
       "  </thead>\n",
       "  <tbody>\n",
       "    <tr>\n",
       "      <th>0</th>\n",
       "      <td>491263</td>\n",
       "      <td>K1I5yuJICQpInOy-wCCo9A</td>\n",
       "      <td>5</td>\n",
       "      <td>staff friendly really like dr. hap. dental hyg...</td>\n",
       "      <td>2017</td>\n",
       "      <td>449</td>\n",
       "    </tr>\n",
       "    <tr>\n",
       "      <th>1</th>\n",
       "      <td>6662859</td>\n",
       "      <td>NOwHErM1-u4d8Z6vSS7FwA</td>\n",
       "      <td>1</td>\n",
       "      <td>usually great experience left extremely disapp...</td>\n",
       "      <td>2017</td>\n",
       "      <td>403</td>\n",
       "    </tr>\n",
       "    <tr>\n",
       "      <th>2</th>\n",
       "      <td>7361472</td>\n",
       "      <td>JjvOoHUs-OrPEnuUUanDsw</td>\n",
       "      <td>5</td>\n",
       "      <td>update: contacted shortly review email. tcg ab...</td>\n",
       "      <td>2016</td>\n",
       "      <td>1551</td>\n",
       "    </tr>\n",
       "    <tr>\n",
       "      <th>3</th>\n",
       "      <td>5119559</td>\n",
       "      <td>XaiIBzU7e2GUqrHflo9Ngw</td>\n",
       "      <td>5</td>\n",
       "      <td>francesca truly accommodating kind, gave optio...</td>\n",
       "      <td>2020</td>\n",
       "      <td>346</td>\n",
       "    </tr>\n",
       "    <tr>\n",
       "      <th>4</th>\n",
       "      <td>7777005</td>\n",
       "      <td>wWPwXqz7yGiVgUTlXCxe9g</td>\n",
       "      <td>1</td>\n",
       "      <td>send anyone care place! dear friend stroke, se...</td>\n",
       "      <td>2013</td>\n",
       "      <td>1280</td>\n",
       "    </tr>\n",
       "  </tbody>\n",
       "</table>\n",
       "</div>"
      ],
      "text/plain": [
       "     index               review_id  stars   \n",
       "0   491263  K1I5yuJICQpInOy-wCCo9A      5  \\\n",
       "1  6662859  NOwHErM1-u4d8Z6vSS7FwA      1   \n",
       "2  7361472  JjvOoHUs-OrPEnuUUanDsw      5   \n",
       "3  5119559  XaiIBzU7e2GUqrHflo9Ngw      5   \n",
       "4  7777005  wWPwXqz7yGiVgUTlXCxe9g      1   \n",
       "\n",
       "                                                text  year  text_length  \n",
       "0  staff friendly really like dr. hap. dental hyg...  2017          449  \n",
       "1  usually great experience left extremely disapp...  2017          403  \n",
       "2  update: contacted shortly review email. tcg ab...  2016         1551  \n",
       "3  francesca truly accommodating kind, gave optio...  2020          346  \n",
       "4  send anyone care place! dear friend stroke, se...  2013         1280  "
      ]
     },
     "execution_count": 10,
     "metadata": {},
     "output_type": "execute_result"
    }
   ],
   "source": [
    "# making a copy of the dataframe \n",
    "copy_review = review_data.copy() \n",
    "copy_review['text'] = review_data['text'].apply(stopwords_removal) # Applying the stopwords_removal function\n",
    "copy_review.head() "
   ]
  },
  {
   "cell_type": "code",
   "execution_count": 11,
   "metadata": {},
   "outputs": [
    {
     "data": {
      "text/plain": [
       "array([5, 1, 4, 3, 2], dtype=int64)"
      ]
     },
     "execution_count": 11,
     "metadata": {},
     "output_type": "execute_result"
    }
   ],
   "source": [
    "copy_review['stars'].unique() "
   ]
  },
  {
   "attachments": {},
   "cell_type": "markdown",
   "metadata": {},
   "source": [
    "In this step we're going to generate insights for both good and bad reviews based on the number of stars given by the user. <br> \n",
    "<ul>\n",
    "<li>5 and 4 stars : Good review</li>\n",
    "<li>3 stars : Neutral</li>\n",
    "<li>1 and 2 stars : Bad review</li>\n",
    "</ul>\n",
    "We are going to add 'review' column who has 3 values Good,Neutral and Bad"
   ]
  },
  {
   "cell_type": "code",
   "execution_count": 12,
   "metadata": {},
   "outputs": [],
   "source": [
    "def review_func(stars):\n",
    "    if stars >= 4:\n",
    "        return 'good'\n",
    "    elif stars == 3:\n",
    "        return 'neutral'\n",
    "    else:\n",
    "        return 'bad'\n"
   ]
  },
  {
   "cell_type": "code",
   "execution_count": 13,
   "metadata": {},
   "outputs": [
    {
     "data": {
      "text/html": [
       "<div>\n",
       "<style scoped>\n",
       "    .dataframe tbody tr th:only-of-type {\n",
       "        vertical-align: middle;\n",
       "    }\n",
       "\n",
       "    .dataframe tbody tr th {\n",
       "        vertical-align: top;\n",
       "    }\n",
       "\n",
       "    .dataframe thead th {\n",
       "        text-align: right;\n",
       "    }\n",
       "</style>\n",
       "<table border=\"1\" class=\"dataframe\">\n",
       "  <thead>\n",
       "    <tr style=\"text-align: right;\">\n",
       "      <th></th>\n",
       "      <th>index</th>\n",
       "      <th>review_id</th>\n",
       "      <th>stars</th>\n",
       "      <th>text</th>\n",
       "      <th>year</th>\n",
       "      <th>text_length</th>\n",
       "      <th>review</th>\n",
       "    </tr>\n",
       "  </thead>\n",
       "  <tbody>\n",
       "    <tr>\n",
       "      <th>0</th>\n",
       "      <td>491263</td>\n",
       "      <td>K1I5yuJICQpInOy-wCCo9A</td>\n",
       "      <td>5</td>\n",
       "      <td>staff friendly really like dr. hap. dental hyg...</td>\n",
       "      <td>2017</td>\n",
       "      <td>449</td>\n",
       "      <td>good</td>\n",
       "    </tr>\n",
       "    <tr>\n",
       "      <th>1</th>\n",
       "      <td>6662859</td>\n",
       "      <td>NOwHErM1-u4d8Z6vSS7FwA</td>\n",
       "      <td>1</td>\n",
       "      <td>usually great experience left extremely disapp...</td>\n",
       "      <td>2017</td>\n",
       "      <td>403</td>\n",
       "      <td>bad</td>\n",
       "    </tr>\n",
       "    <tr>\n",
       "      <th>2</th>\n",
       "      <td>7361472</td>\n",
       "      <td>JjvOoHUs-OrPEnuUUanDsw</td>\n",
       "      <td>5</td>\n",
       "      <td>update: contacted shortly review email. tcg ab...</td>\n",
       "      <td>2016</td>\n",
       "      <td>1551</td>\n",
       "      <td>good</td>\n",
       "    </tr>\n",
       "    <tr>\n",
       "      <th>3</th>\n",
       "      <td>5119559</td>\n",
       "      <td>XaiIBzU7e2GUqrHflo9Ngw</td>\n",
       "      <td>5</td>\n",
       "      <td>francesca truly accommodating kind, gave optio...</td>\n",
       "      <td>2020</td>\n",
       "      <td>346</td>\n",
       "      <td>good</td>\n",
       "    </tr>\n",
       "    <tr>\n",
       "      <th>4</th>\n",
       "      <td>7777005</td>\n",
       "      <td>wWPwXqz7yGiVgUTlXCxe9g</td>\n",
       "      <td>1</td>\n",
       "      <td>send anyone care place! dear friend stroke, se...</td>\n",
       "      <td>2013</td>\n",
       "      <td>1280</td>\n",
       "      <td>bad</td>\n",
       "    </tr>\n",
       "  </tbody>\n",
       "</table>\n",
       "</div>"
      ],
      "text/plain": [
       "     index               review_id  stars   \n",
       "0   491263  K1I5yuJICQpInOy-wCCo9A      5  \\\n",
       "1  6662859  NOwHErM1-u4d8Z6vSS7FwA      1   \n",
       "2  7361472  JjvOoHUs-OrPEnuUUanDsw      5   \n",
       "3  5119559  XaiIBzU7e2GUqrHflo9Ngw      5   \n",
       "4  7777005  wWPwXqz7yGiVgUTlXCxe9g      1   \n",
       "\n",
       "                                                text  year  text_length review  \n",
       "0  staff friendly really like dr. hap. dental hyg...  2017          449   good  \n",
       "1  usually great experience left extremely disapp...  2017          403    bad  \n",
       "2  update: contacted shortly review email. tcg ab...  2016         1551   good  \n",
       "3  francesca truly accommodating kind, gave optio...  2020          346   good  \n",
       "4  send anyone care place! dear friend stroke, se...  2013         1280    bad  "
      ]
     },
     "execution_count": 13,
     "metadata": {},
     "output_type": "execute_result"
    }
   ],
   "source": [
    "copy_review['review'] = copy_review['stars'].apply(review_func) \n",
    "copy_review.head() "
   ]
  },
  {
   "cell_type": "code",
   "execution_count": 14,
   "metadata": {},
   "outputs": [
    {
     "data": {
      "text/plain": [
       "<Axes: xlabel='review', ylabel='count'>"
      ]
     },
     "execution_count": 14,
     "metadata": {},
     "output_type": "execute_result"
    },
    {
     "data": {
      "image/png": "[encoded data removed]",
      "text/plain": [
       "<Figure size 400x300 with 1 Axes>"
      ]
     },
     "metadata": {},
     "output_type": "display_data"
    }
   ],
   "source": [
    "plt.figure(figsize=(4,3)) \n",
    "sns.countplot(data=copy_review,x='review', palette=\"Blues_d\")  "
   ]
  },
  {
   "cell_type": "code",
   "execution_count": 15,
   "metadata": {},
   "outputs": [],
   "source": [
    "def most_frequent_words(df,column_name) : \n",
    "    # Concatenate all reviews in the dataframe into a single string\n",
    "    text = \" \".join(review for review in df[column_name]) \n",
    "\n",
    "    words = word_tokenize(text) \n",
    "    word_frequency = Counter(words)     \n",
    "    wordcloud = WordCloud(width=800, height=800,\n",
    "                          background_color='white',\n",
    "                          stopwords=stop_words,\n",
    "                          min_font_size=10).generate_from_frequencies(word_frequency)\n",
    "\n",
    "    \n",
    "    # Display the word cloud\n",
    "    plt.figure(figsize=(5, 5), facecolor=None)\n",
    "    plt.imshow(wordcloud)\n",
    "    plt.axis(\"off\")\n",
    "    plt.tight_layout(pad=0)\n",
    "    plt.show()\n",
    "    "
   ]
  },
  {
   "cell_type": "code",
   "execution_count": 16,
   "metadata": {},
   "outputs": [],
   "source": [
    "good_reviews = copy_review[copy_review['review']=='good'] \n",
    "bad_reviews = copy_review[copy_review['review']=='bad']  "
   ]
  },
  {
   "cell_type": "code",
   "execution_count": 17,
   "metadata": {},
   "outputs": [
    {
     "data": {
      "text/html": [
       "<div>\n",
       "<style scoped>\n",
       "    .dataframe tbody tr th:only-of-type {\n",
       "        vertical-align: middle;\n",
       "    }\n",
       "\n",
       "    .dataframe tbody tr th {\n",
       "        vertical-align: top;\n",
       "    }\n",
       "\n",
       "    .dataframe thead th {\n",
       "        text-align: right;\n",
       "    }\n",
       "</style>\n",
       "<table border=\"1\" class=\"dataframe\">\n",
       "  <thead>\n",
       "    <tr style=\"text-align: right;\">\n",
       "      <th></th>\n",
       "      <th>index</th>\n",
       "      <th>review_id</th>\n",
       "      <th>stars</th>\n",
       "      <th>text</th>\n",
       "      <th>year</th>\n",
       "      <th>text_length</th>\n",
       "      <th>review</th>\n",
       "    </tr>\n",
       "  </thead>\n",
       "  <tbody>\n",
       "    <tr>\n",
       "      <th>0</th>\n",
       "      <td>491263</td>\n",
       "      <td>K1I5yuJICQpInOy-wCCo9A</td>\n",
       "      <td>5</td>\n",
       "      <td>staff friendly really like dr. hap. dental hyg...</td>\n",
       "      <td>2017</td>\n",
       "      <td>449</td>\n",
       "      <td>good</td>\n",
       "    </tr>\n",
       "    <tr>\n",
       "      <th>2</th>\n",
       "      <td>7361472</td>\n",
       "      <td>JjvOoHUs-OrPEnuUUanDsw</td>\n",
       "      <td>5</td>\n",
       "      <td>update: contacted shortly review email. tcg ab...</td>\n",
       "      <td>2016</td>\n",
       "      <td>1551</td>\n",
       "      <td>good</td>\n",
       "    </tr>\n",
       "    <tr>\n",
       "      <th>3</th>\n",
       "      <td>5119559</td>\n",
       "      <td>XaiIBzU7e2GUqrHflo9Ngw</td>\n",
       "      <td>5</td>\n",
       "      <td>francesca truly accommodating kind, gave optio...</td>\n",
       "      <td>2020</td>\n",
       "      <td>346</td>\n",
       "      <td>good</td>\n",
       "    </tr>\n",
       "    <tr>\n",
       "      <th>6</th>\n",
       "      <td>8355097</td>\n",
       "      <td>npoWcuF9jgMBsDCTGSLvhw</td>\n",
       "      <td>5</td>\n",
       "      <td>awesome food great service. blood orange marga...</td>\n",
       "      <td>2018</td>\n",
       "      <td>193</td>\n",
       "      <td>good</td>\n",
       "    </tr>\n",
       "    <tr>\n",
       "      <th>8</th>\n",
       "      <td>3322213</td>\n",
       "      <td>ZeIRnk45yUOedrZgTi0UdA</td>\n",
       "      <td>4</td>\n",
       "      <td>decent thai food. got token thai dishes pad th...</td>\n",
       "      <td>2020</td>\n",
       "      <td>214</td>\n",
       "      <td>good</td>\n",
       "    </tr>\n",
       "  </tbody>\n",
       "</table>\n",
       "</div>"
      ],
      "text/plain": [
       "     index               review_id  stars   \n",
       "0   491263  K1I5yuJICQpInOy-wCCo9A      5  \\\n",
       "2  7361472  JjvOoHUs-OrPEnuUUanDsw      5   \n",
       "3  5119559  XaiIBzU7e2GUqrHflo9Ngw      5   \n",
       "6  8355097  npoWcuF9jgMBsDCTGSLvhw      5   \n",
       "8  3322213  ZeIRnk45yUOedrZgTi0UdA      4   \n",
       "\n",
       "                                                text  year  text_length review  \n",
       "0  staff friendly really like dr. hap. dental hyg...  2017          449   good  \n",
       "2  update: contacted shortly review email. tcg ab...  2016         1551   good  \n",
       "3  francesca truly accommodating kind, gave optio...  2020          346   good  \n",
       "6  awesome food great service. blood orange marga...  2018          193   good  \n",
       "8  decent thai food. got token thai dishes pad th...  2020          214   good  "
      ]
     },
     "execution_count": 17,
     "metadata": {},
     "output_type": "execute_result"
    }
   ],
   "source": [
    "good_reviews.head() "
   ]
  },
  {
   "cell_type": "code",
   "execution_count": 18,
   "metadata": {},
   "outputs": [
    {
     "data": {
      "text/html": [
       "<div>\n",
       "<style scoped>\n",
       "    .dataframe tbody tr th:only-of-type {\n",
       "        vertical-align: middle;\n",
       "    }\n",
       "\n",
       "    .dataframe tbody tr th {\n",
       "        vertical-align: top;\n",
       "    }\n",
       "\n",
       "    .dataframe thead th {\n",
       "        text-align: right;\n",
       "    }\n",
       "</style>\n",
       "<table border=\"1\" class=\"dataframe\">\n",
       "  <thead>\n",
       "    <tr style=\"text-align: right;\">\n",
       "      <th></th>\n",
       "      <th>index</th>\n",
       "      <th>review_id</th>\n",
       "      <th>stars</th>\n",
       "      <th>text</th>\n",
       "      <th>year</th>\n",
       "      <th>text_length</th>\n",
       "      <th>review</th>\n",
       "    </tr>\n",
       "  </thead>\n",
       "  <tbody>\n",
       "    <tr>\n",
       "      <th>1</th>\n",
       "      <td>6662859</td>\n",
       "      <td>NOwHErM1-u4d8Z6vSS7FwA</td>\n",
       "      <td>1</td>\n",
       "      <td>usually great experience left extremely disapp...</td>\n",
       "      <td>2017</td>\n",
       "      <td>403</td>\n",
       "      <td>bad</td>\n",
       "    </tr>\n",
       "    <tr>\n",
       "      <th>4</th>\n",
       "      <td>7777005</td>\n",
       "      <td>wWPwXqz7yGiVgUTlXCxe9g</td>\n",
       "      <td>1</td>\n",
       "      <td>send anyone care place! dear friend stroke, se...</td>\n",
       "      <td>2013</td>\n",
       "      <td>1280</td>\n",
       "      <td>bad</td>\n",
       "    </tr>\n",
       "    <tr>\n",
       "      <th>5</th>\n",
       "      <td>7633404</td>\n",
       "      <td>fs8Vul2nzUnhPGM-JJ1-5w</td>\n",
       "      <td>1</td>\n",
       "      <td>delivery twice left side order drink! even goi...</td>\n",
       "      <td>2020</td>\n",
       "      <td>237</td>\n",
       "      <td>bad</td>\n",
       "    </tr>\n",
       "    <tr>\n",
       "      <th>7</th>\n",
       "      <td>5264638</td>\n",
       "      <td>1KA3rVnhxTIRI_Nzs9gJQg</td>\n",
       "      <td>1</td>\n",
       "      <td>go alone female... owner hit you.. way makes l...</td>\n",
       "      <td>2011</td>\n",
       "      <td>485</td>\n",
       "      <td>bad</td>\n",
       "    </tr>\n",
       "    <tr>\n",
       "      <th>11</th>\n",
       "      <td>5700491</td>\n",
       "      <td>GVrDq8yOKuf2Msq0jOynWg</td>\n",
       "      <td>1</td>\n",
       "      <td>first time simoniz, definitely last. here's ha...</td>\n",
       "      <td>2017</td>\n",
       "      <td>1956</td>\n",
       "      <td>bad</td>\n",
       "    </tr>\n",
       "  </tbody>\n",
       "</table>\n",
       "</div>"
      ],
      "text/plain": [
       "      index               review_id  stars   \n",
       "1   6662859  NOwHErM1-u4d8Z6vSS7FwA      1  \\\n",
       "4   7777005  wWPwXqz7yGiVgUTlXCxe9g      1   \n",
       "5   7633404  fs8Vul2nzUnhPGM-JJ1-5w      1   \n",
       "7   5264638  1KA3rVnhxTIRI_Nzs9gJQg      1   \n",
       "11  5700491  GVrDq8yOKuf2Msq0jOynWg      1   \n",
       "\n",
       "                                                 text  year  text_length   \n",
       "1   usually great experience left extremely disapp...  2017          403  \\\n",
       "4   send anyone care place! dear friend stroke, se...  2013         1280   \n",
       "5   delivery twice left side order drink! even goi...  2020          237   \n",
       "7   go alone female... owner hit you.. way makes l...  2011          485   \n",
       "11  first time simoniz, definitely last. here's ha...  2017         1956   \n",
       "\n",
       "   review  \n",
       "1     bad  \n",
       "4     bad  \n",
       "5     bad  \n",
       "7     bad  \n",
       "11    bad  "
      ]
     },
     "execution_count": 18,
     "metadata": {},
     "output_type": "execute_result"
    }
   ],
   "source": [
    "bad_reviews.head() "
   ]
  },
  {
   "attachments": {},
   "cell_type": "markdown",
   "metadata": {},
   "source": [
    "### Modeling"
   ]
  },
  {
   "attachments": {},
   "cell_type": "markdown",
   "metadata": {},
   "source": [
    "In this part we're going to classify our reviews into a positif or negatif based on the starts and text columns. <br>\n",
    "We'll consider only 5 and 1 stars. <br>\n",
    "* 5 stars = good review\n",
    "* 1 start = bad review  "
   ]
  },
  {
   "cell_type": "code",
   "execution_count": 19,
   "metadata": {},
   "outputs": [
    {
     "data": {
      "text/html": [
       "<div>\n",
       "<style scoped>\n",
       "    .dataframe tbody tr th:only-of-type {\n",
       "        vertical-align: middle;\n",
       "    }\n",
       "\n",
       "    .dataframe tbody tr th {\n",
       "        vertical-align: top;\n",
       "    }\n",
       "\n",
       "    .dataframe thead th {\n",
       "        text-align: right;\n",
       "    }\n",
       "</style>\n",
       "<table border=\"1\" class=\"dataframe\">\n",
       "  <thead>\n",
       "    <tr style=\"text-align: right;\">\n",
       "      <th></th>\n",
       "      <th>review</th>\n",
       "      <th>text</th>\n",
       "    </tr>\n",
       "  </thead>\n",
       "  <tbody>\n",
       "    <tr>\n",
       "      <th>0</th>\n",
       "      <td>good</td>\n",
       "      <td>staff friendly really like dr. hap. dental hyg...</td>\n",
       "    </tr>\n",
       "    <tr>\n",
       "      <th>1</th>\n",
       "      <td>bad</td>\n",
       "      <td>usually great experience left extremely disapp...</td>\n",
       "    </tr>\n",
       "    <tr>\n",
       "      <th>2</th>\n",
       "      <td>good</td>\n",
       "      <td>update: contacted shortly review email. tcg ab...</td>\n",
       "    </tr>\n",
       "    <tr>\n",
       "      <th>3</th>\n",
       "      <td>good</td>\n",
       "      <td>francesca truly accommodating kind, gave optio...</td>\n",
       "    </tr>\n",
       "    <tr>\n",
       "      <th>4</th>\n",
       "      <td>bad</td>\n",
       "      <td>send anyone care place! dear friend stroke, se...</td>\n",
       "    </tr>\n",
       "  </tbody>\n",
       "</table>\n",
       "</div>"
      ],
      "text/plain": [
       "  review                                               text\n",
       "0   good  staff friendly really like dr. hap. dental hyg...\n",
       "1    bad  usually great experience left extremely disapp...\n",
       "2   good  update: contacted shortly review email. tcg ab...\n",
       "3   good  francesca truly accommodating kind, gave optio...\n",
       "4    bad  send anyone care place! dear friend stroke, se..."
      ]
     },
     "execution_count": 19,
     "metadata": {},
     "output_type": "execute_result"
    }
   ],
   "source": [
    "selected_data = copy_review[['review','text']] \n",
    "#selected_data = new_data[(new_data['stars']==5) | (new_data['stars'] == 1)] \n",
    "selected_data.head() "
   ]
  },
  {
   "attachments": {},
   "cell_type": "markdown",
   "metadata": {},
   "source": [
    "Next we will devide our dataset into X and Y "
   ]
  },
  {
   "cell_type": "code",
   "execution_count": 20,
   "metadata": {},
   "outputs": [],
   "source": [
    "X = selected_data['text'] \n",
    "y = selected_data['review']  "
   ]
  },
  {
   "attachments": {},
   "cell_type": "markdown",
   "metadata": {},
   "source": [
    "Now we're going to use CountVectorizer function to vectorize the reviews "
   ]
  },
  {
   "cell_type": "code",
   "execution_count": 21,
   "metadata": {},
   "outputs": [],
   "source": [
    "count_vec = CountVectorizer().fit(X) \n",
    "X = count_vec.transform(X) "
   ]
  },
  {
   "cell_type": "code",
   "execution_count": 22,
   "metadata": {},
   "outputs": [
    {
     "name": "stdout",
     "output_type": "stream",
     "text": [
      "The shape of X: (86352, 74982)\n"
     ]
    }
   ],
   "source": [
    "print('The shape of X:',X.shape) "
   ]
  },
  {
   "cell_type": "code",
   "execution_count": 23,
   "metadata": {},
   "outputs": [
    {
     "name": "stdout",
     "output_type": "stream",
     "text": [
      "The shape of y (86352,)\n"
     ]
    }
   ],
   "source": [
    "print('The shape of y',y.shape) "
   ]
  },
  {
   "attachments": {},
   "cell_type": "markdown",
   "metadata": {},
   "source": [
    "Now we're goind to devide our data into training and testing set"
   ]
  },
  {
   "cell_type": "code",
   "execution_count": 24,
   "metadata": {},
   "outputs": [],
   "source": [
    "X_train, X_test, y_train, y_test = train_test_split(X,y, test_size=0.2) "
   ]
  },
  {
   "attachments": {},
   "cell_type": "markdown",
   "metadata": {},
   "source": [
    "#### Multinominal naive bayes model "
   ]
  },
  {
   "cell_type": "code",
   "execution_count": 25,
   "metadata": {},
   "outputs": [],
   "source": [
    "mnb = MultinomialNB() \n",
    "mnb.fit(X_train,y_train) \n",
    "y_pred = mnb.predict(X_test) "
   ]
  },
  {
   "cell_type": "code",
   "execution_count": 26,
   "metadata": {},
   "outputs": [
    {
     "name": "stdout",
     "output_type": "stream",
     "text": [
      "- Confusion matrix of Multinominal naive bayes:\n",
      " [[ 2910   412   637]\n",
      " [  730 10229   470]\n",
      " [  366   892   625]]\n",
      "- Accuracy score: 0.7969428521799549\n",
      "- Classification report:\n",
      "               precision    recall  f1-score   support\n",
      "\n",
      "         bad       0.73      0.74      0.73      3959\n",
      "        good       0.89      0.90      0.89     11429\n",
      "     neutral       0.36      0.33      0.35      1883\n",
      "\n",
      "    accuracy                           0.80     17271\n",
      "   macro avg       0.66      0.65      0.66     17271\n",
      "weighted avg       0.79      0.80      0.79     17271\n",
      "\n"
     ]
    }
   ],
   "source": [
    "print('- Confusion matrix of Multinominal naive bayes:\\n',confusion_matrix(y_test,y_pred))\n",
    "print('- Accuracy score:',accuracy_score(y_test,y_pred)) \n",
    "print('- Classification report:\\n',classification_report(y_test,y_pred))  "
   ]
  }
 ],
 "metadata": {
  "kernelspec": {
   "display_name": "Python 3",
   "language": "python",
   "name": "python3"
  },
  "language_info": {
   "codemirror_mode": {
    "name": "ipython",
    "version": 3
   },
   "file_extension": ".py",
   "mimetype": "text/x-python",
   "name": "python",
   "nbconvert_exporter": "python",
   "pygments_lexer": "ipython3",
   "version": "3.11.3"
  },
  "orig_nbformat": 4,
  "vscode": {
   "interpreter": {
    "hash": "4e318bb52f488208d8149eebb412b37880a2abc5342505fe873d49ea5375650a"
   }
  }
 },
 "nbformat": 4,
 "nbformat_minor": 2
}
